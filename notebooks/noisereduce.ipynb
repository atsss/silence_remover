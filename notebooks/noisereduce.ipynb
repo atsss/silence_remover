{
 "cells": [
  {
   "cell_type": "code",
   "execution_count": 6,
   "id": "767faed6-6746-4d4d-80da-737cea946131",
   "metadata": {},
   "outputs": [],
   "source": [
    "from scipy.io import wavfile\n",
    "import noisereduce as nr\n",
    "import os"
   ]
  },
  {
   "cell_type": "code",
   "execution_count": 7,
   "id": "79d344db-3a17-4846-b72d-154737d93972",
   "metadata": {},
   "outputs": [],
   "source": [
    "file ='../assets/noise_cancel.wav'\n",
    "\n",
    "assert os.path.isfile(file)\n",
    "\n",
    "rate, data = wavfile.read(file)"
   ]
  },
  {
   "cell_type": "code",
   "execution_count": 8,
   "id": "1888c06c-57ff-407e-9696-64d56ddf6223",
   "metadata": {},
   "outputs": [],
   "source": [
    "reduced_noise = nr.reduce_noise(y=data, sr=rate)\n",
    "wavfile.write(\"mywav_reduced_noise.wav\", rate, reduced_noise)"
   ]
  },
  {
   "cell_type": "code",
   "execution_count": null,
   "id": "705ce8ef-b7de-45e6-8658-be66e7bb5e61",
   "metadata": {},
   "outputs": [],
   "source": []
  }
 ],
 "metadata": {
  "kernelspec": {
   "display_name": "Python 3 (ipykernel)",
   "language": "python",
   "name": "python3"
  },
  "language_info": {
   "codemirror_mode": {
    "name": "ipython",
    "version": 3
   },
   "file_extension": ".py",
   "mimetype": "text/x-python",
   "name": "python",
   "nbconvert_exporter": "python",
   "pygments_lexer": "ipython3",
   "version": "3.11.6"
  }
 },
 "nbformat": 4,
 "nbformat_minor": 5
}
