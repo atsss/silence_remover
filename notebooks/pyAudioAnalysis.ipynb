{
 "cells": [
  {
   "cell_type": "code",
   "execution_count": 1,
   "id": "51bd9a9a-127e-4015-ac61-c744e4c4425a",
   "metadata": {},
   "outputs": [
    {
     "ename": "ModuleNotFoundError",
     "evalue": "No module named 'eyed3'",
     "output_type": "error",
     "traceback": [
      "\u001b[0;31m---------------------------------------------------------------------------\u001b[0m",
      "\u001b[0;31mModuleNotFoundError\u001b[0m                       Traceback (most recent call last)",
      "Cell \u001b[0;32mIn[1], line 2\u001b[0m\n\u001b[1;32m      1\u001b[0m \u001b[38;5;66;03m#import required libraries\u001b[39;00m\n\u001b[0;32m----> 2\u001b[0m \u001b[38;5;28;01mfrom\u001b[39;00m \u001b[38;5;21;01mpyAudioAnalysis\u001b[39;00m \u001b[38;5;28;01mimport\u001b[39;00m audioBasicIO \u001b[38;5;28;01mas\u001b[39;00m aIO\n\u001b[1;32m      3\u001b[0m \u001b[38;5;28;01mfrom\u001b[39;00m \u001b[38;5;21;01mpyAudioAnalysis\u001b[39;00m \u001b[38;5;28;01mimport\u001b[39;00m audioSegmentation \u001b[38;5;28;01mas\u001b[39;00m aS\n\u001b[1;32m      4\u001b[0m \u001b[38;5;66;03m# path to audio file\u001b[39;00m\n",
      "File \u001b[0;32m~/.local/share/virtualenvs/silence-JI5FJ-7N/lib/python3.11/site-packages/pyAudioAnalysis/audioBasicIO.py:5\u001b[0m\n\u001b[1;32m      3\u001b[0m \u001b[38;5;28;01mimport\u001b[39;00m \u001b[38;5;21;01mglob\u001b[39;00m\n\u001b[1;32m      4\u001b[0m \u001b[38;5;28;01mimport\u001b[39;00m \u001b[38;5;21;01maifc\u001b[39;00m\n\u001b[0;32m----> 5\u001b[0m \u001b[38;5;28;01mimport\u001b[39;00m \u001b[38;5;21;01meyed3\u001b[39;00m\n\u001b[1;32m      6\u001b[0m \u001b[38;5;28;01mimport\u001b[39;00m \u001b[38;5;21;01mntpath\u001b[39;00m\n\u001b[1;32m      7\u001b[0m \u001b[38;5;28;01mimport\u001b[39;00m \u001b[38;5;21;01mshutil\u001b[39;00m\n",
      "\u001b[0;31mModuleNotFoundError\u001b[0m: No module named 'eyed3'"
     ]
    }
   ],
   "source": [
    "#import required libraries\n",
    "from pyAudioAnalysis import audioBasicIO as aIO\n",
    "from pyAudioAnalysis import audioSegmentation as aS\n",
    "# path to audio file\n",
    "path='/audio_path'\n",
    "\n",
    "assert os.path.isfile(path)\n",
    "\n",
    "# below method returns the active / non silent segments of the audio file \n",
    "[Fs, x] = aIO.read_audio_file(path)\n",
    "segments = aS.silence_removal(x, \n",
    "                             Fs, \n",
    "                             0.020, \n",
    "                             0.020, \n",
    "                             smooth_window=1.0, \n",
    "                             weight=0.3, \n",
    "                             plot=True)"
   ]
  },
  {
   "cell_type": "code",
   "execution_count": null,
   "id": "3985da60-91ee-4238-ad4f-379c9695c119",
   "metadata": {},
   "outputs": [],
   "source": []
  }
 ],
 "metadata": {
  "kernelspec": {
   "display_name": "Python 3 (ipykernel)",
   "language": "python",
   "name": "python3"
  },
  "language_info": {
   "codemirror_mode": {
    "name": "ipython",
    "version": 3
   },
   "file_extension": ".py",
   "mimetype": "text/x-python",
   "name": "python",
   "nbconvert_exporter": "python",
   "pygments_lexer": "ipython3",
   "version": "3.11.3"
  }
 },
 "nbformat": 4,
 "nbformat_minor": 5
}
