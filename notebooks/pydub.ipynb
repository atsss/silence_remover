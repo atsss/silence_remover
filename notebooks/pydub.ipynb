{
 "cells": [
  {
   "cell_type": "code",
   "execution_count": 1,
   "id": "eddebee8-9fb6-4fe5-9130-ad7534f8d125",
   "metadata": {},
   "outputs": [
    {
     "name": "stderr",
     "output_type": "stream",
     "text": [
      "/Users/ats/.local/share/virtualenvs/silence-JI5FJ-7N/lib/python3.11/site-packages/pydub/utils.py:170: RuntimeWarning: Couldn't find ffmpeg or avconv - defaulting to ffmpeg, but may not work\n",
      "  warn(\"Couldn't find ffmpeg or avconv - defaulting to ffmpeg, but may not work\", RuntimeWarning)\n"
     ]
    },
    {
     "ename": "NameError",
     "evalue": "name 'os' is not defined",
     "output_type": "error",
     "traceback": [
      "\u001b[0;31m---------------------------------------------------------------------------\u001b[0m",
      "\u001b[0;31mNameError\u001b[0m                                 Traceback (most recent call last)",
      "Cell \u001b[0;32mIn[1], line 8\u001b[0m\n\u001b[1;32m      5\u001b[0m \u001b[38;5;66;03m# Pass audio path\u001b[39;00m\n\u001b[1;32m      6\u001b[0m path \u001b[38;5;241m=\u001b[39m\u001b[38;5;124m'\u001b[39m\u001b[38;5;124m/audio_path\u001b[39m\u001b[38;5;124m'\u001b[39m\n\u001b[0;32m----> 8\u001b[0m \u001b[38;5;28;01massert\u001b[39;00m \u001b[43mos\u001b[49m\u001b[38;5;241m.\u001b[39mpath\u001b[38;5;241m.\u001b[39misfile(path)\n\u001b[1;32m     10\u001b[0m rate, audio \u001b[38;5;241m=\u001b[39m read(path)\n\u001b[1;32m     11\u001b[0m \u001b[38;5;66;03m# make the audio in pydub audio segment format\u001b[39;00m\n",
      "\u001b[0;31mNameError\u001b[0m: name 'os' is not defined"
     ]
    }
   ],
   "source": [
    "# Import required libraries\n",
    "from pydub.silence import split_on_silence\n",
    "from pydub import AudioSegment, effects \n",
    "from scipy.io.wavfile import read, write\n",
    "# Pass audio path\n",
    "path ='/audio_path'\n",
    "\n",
    "assert os.path.isfile(path)\n",
    "\n",
    "rate, audio = read(path)\n",
    "# make the audio in pydub audio segment format\n",
    "aud = AudioSegment(audio.tobytes(),frame_rate = rate,\n",
    "                     sample_width = audio.dtype.itemsize,channels = 1)\n",
    "# use split on sience method to split the audio based on the silence, \n",
    "# here we can pass the min_silence_len as silent length threshold in ms and intensity thershold\n",
    "audio_chunks = split_on_silence(\n",
    "    aud,\n",
    "    min_silence_len = 2000,\n",
    "    silence_thresh = -45,\n",
    "    keep_silence = 500,)\n",
    "#audio chunks are combined here\n",
    "audio_processed = sum(audio_chunks)\n",
    "audio_processed = np.array(audio_processed.get_array_of_samples())\n",
    "#Note the processed audio rate is not the same - it would be 1K"
   ]
  }
 ],
 "metadata": {
  "kernelspec": {
   "display_name": "Python 3 (ipykernel)",
   "language": "python",
   "name": "python3"
  },
  "language_info": {
   "codemirror_mode": {
    "name": "ipython",
    "version": 3
   },
   "file_extension": ".py",
   "mimetype": "text/x-python",
   "name": "python",
   "nbconvert_exporter": "python",
   "pygments_lexer": "ipython3",
   "version": "3.11.3"
  }
 },
 "nbformat": 4,
 "nbformat_minor": 5
}
