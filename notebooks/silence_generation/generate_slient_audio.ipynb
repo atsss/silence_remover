{
 "cells": [
  {
   "cell_type": "markdown",
   "id": "704a58ad-9fb2-49a4-8047-048544b88d8a",
   "metadata": {},
   "source": [
    "# Generate silent audio\n",
    "> https://github.com/jiaaro/pydub/issues/215#issuecomment-330063714\n",
    "\n",
    "> https://github.com/jiaaro/pydub/blob/master/API.markdown#audiosegmentsilent"
   ]
  },
  {
   "cell_type": "code",
   "execution_count": 17,
   "id": "235a784d-4b83-4099-873a-be99409e6836",
   "metadata": {},
   "outputs": [],
   "source": [
    "from pydub import AudioSegment\n",
    "import wave\n",
    "import os"
   ]
  },
  {
   "cell_type": "code",
   "execution_count": 18,
   "id": "afd35330-21f1-46a0-ad7f-cdd38b33a5f5",
   "metadata": {},
   "outputs": [],
   "source": [
    "silence = AudioSegment.silent(duration=5000)\n",
    "# silence.export('five_second_silence.wav', format=\"wav\")"
   ]
  },
  {
   "cell_type": "code",
   "execution_count": 19,
   "id": "66f1bf31-f4bc-479a-a0bf-3af001ee6bf0",
   "metadata": {},
   "outputs": [
    {
     "name": "stdout",
     "output_type": "stream",
     "text": [
      "/home/jovyan/work/notebooks\n"
     ]
    }
   ],
   "source": [
    "print(os. getcwd())"
   ]
  },
  {
   "cell_type": "code",
   "execution_count": 20,
   "id": "41cc486d-b37b-4a31-bb16-36750da23397",
   "metadata": {},
   "outputs": [],
   "source": [
    "file ='./silence_generation/sample.wav'\n",
    "assert os.path.isfile(file)"
   ]
  },
  {
   "cell_type": "code",
   "execution_count": null,
   "id": "0fb5c585-9095-40f9-ac44-2e4e8bc35db5",
   "metadata": {},
   "outputs": [],
   "source": [
    "non_silence = AudioSegment.from_file(file)\n",
    "combined = non_silence.append(silence)\n",
    "combined.append(non_silence)\n"
   ]
  }
 ],
 "metadata": {
  "kernelspec": {
   "display_name": "Python 3 (ipykernel)",
   "language": "python",
   "name": "python3"
  },
  "language_info": {
   "codemirror_mode": {
    "name": "ipython",
    "version": 3
   },
   "file_extension": ".py",
   "mimetype": "text/x-python",
   "name": "python",
   "nbconvert_exporter": "python",
   "pygments_lexer": "ipython3",
   "version": "3.11.6"
  }
 },
 "nbformat": 4,
 "nbformat_minor": 5
}
